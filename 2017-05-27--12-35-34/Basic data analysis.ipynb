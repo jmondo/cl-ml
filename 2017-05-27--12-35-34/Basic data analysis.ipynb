{
 "cells": [
  {
   "cell_type": "code",
   "execution_count": 34,
   "metadata": {
    "collapsed": false
   },
   "outputs": [],
   "source": [
    "%matplotlib inline\n",
    "\n",
    "import json\n",
    "import matplotlib.pyplot as plt\n",
    "import numpy as np\n",
    "from datetime import datetime, timedelta"
   ]
  },
  {
   "cell_type": "code",
   "execution_count": 35,
   "metadata": {
    "collapsed": false
   },
   "outputs": [],
   "source": [
    "with open('data.json') as data_file:    \n",
    "    data = json.load(data_file)"
   ]
  },
  {
   "cell_type": "code",
   "execution_count": 93,
   "metadata": {
    "collapsed": false
   },
   "outputs": [
    {
     "name": "stdout",
     "output_type": "stream",
     "text": [
      "2217\n"
     ]
    }
   ],
   "source": [
    "posting_times = []\n",
    "for listing in data:\n",
    "    dt = datetime.strptime(listing['datetime'], '%Y-%m-%d %H:%M')\n",
    "    if len(posting_times) == 0:\n",
    "        # by looking at the data, i saw that it goes more than 2 days back. would need to verify this is true before doing this.\n",
    "        max_time = dt\n",
    "        min_time = dt - timedelta(days=2)\n",
    "    elif dt < min_time:\n",
    "        break\n",
    "\n",
    "    time_without_day = dt.replace(year=2017, month=1, day=1)\n",
    "    posting_times.append(time_without_day)\n",
    "\n",
    "min_time_for_range = min_time.replace(year=2017, month=1, day=1)\n",
    "max_time_for_range = max_time.replace(year=2017, month=1, day=1)\n",
    "print(len(posting_times))"
   ]
  },
  {
   "cell_type": "code",
   "execution_count": 109,
   "metadata": {
    "collapsed": false
   },
   "outputs": [
    {
     "data": {
      "image/png": "[encoded data removed]",
      "text/plain": [
       "<matplotlib.figure.Figure at 0x11ca8d198>"
      ]
     },
     "metadata": {},
     "output_type": "display_data"
    }
   ],
   "source": [
    "plt.close('all')\n",
    "plt.ion()\n",
    "fig, ax = plt.subplots()\n",
    "counts, bins, patches = ax.hist(posting_times, bins=24, range=(min_time_for_range,max_time_for_range))\n",
    "\n",
    "plt.title('Posts by time of day')\n",
    "# label every bin, not just random ones\n",
    "ax.set_xticks(bins)\n",
    "\n",
    "# rotate and align the tick labels so they look better\n",
    "fig.autofmt_xdate(rotation=60)\n",
    "fig.set_size_inches(10, 5)\n",
    "\n",
    "# set date formatting to just show time\n",
    "import matplotlib.dates as mdates\n",
    "ax.xaxis.set_major_formatter(mdates.DateFormatter('%H:%M'))\n"
   ]
  },
  {
   "cell_type": "code",
   "execution_count": null,
   "metadata": {
    "collapsed": true
   },
   "outputs": [],
   "source": []
  }
 ],
 "metadata": {
  "kernelspec": {
   "display_name": "Python 3",
   "language": "python",
   "name": "python3"
  },
  "language_info": {
   "codemirror_mode": {
    "name": "ipython",
    "version": 3
   },
   "file_extension": ".py",
   "mimetype": "text/x-python",
   "name": "python",
   "nbconvert_exporter": "python",
   "pygments_lexer": "ipython3",
   "version": "3.6.0"
  }
 },
 "nbformat": 4,
 "nbformat_minor": 2
}
